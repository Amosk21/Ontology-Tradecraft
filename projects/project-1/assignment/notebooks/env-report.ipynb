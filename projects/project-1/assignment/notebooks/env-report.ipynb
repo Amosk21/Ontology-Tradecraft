{
 "cells": [
  {
   "cell_type": "code",
   "execution_count": 3,
   "id": "afeabb92",
   "metadata": {},
   "outputs": [
    {
     "name": "stdout",
     "output_type": "stream",
     "text": [
      "3.13.5 (tags/v3.13.5:6cb20a2, Jun 11 2025, 16:15:46) [MSC v.1943 64 bit (AMD64)]\n"
     ]
    }
   ],
   "source": [
    "import sys\n",
    "print(sys.version)"
   ]
  },
  {
   "cell_type": "code",
   "execution_count": 1,
   "id": "87611538",
   "metadata": {},
   "outputs": [
    {
     "name": "stdout",
     "output_type": "stream",
     "text": [
      "rdflib: 7.1.4\n",
      "SPARQLWrapper: 2.0.0\n",
      "pyshacl: 0.30.1\n"
     ]
    }
   ],
   "source": [
    "import rdflib\n",
    "import SPARQLWrapper\n",
    "import pyshacl\n",
    "\n",
    "print(\"rdflib:\", rdflib.__version__)\n",
    "print(\"SPARQLWrapper:\", SPARQLWrapper.__version__)\n",
    "# pyshacl has __version__ on the package, not module attribute in some versions:\n",
    "try:\n",
    "    import pyshacl\n",
    "    print(\"pyshacl:\", getattr(pyshacl, \"__version__\", \"installed\"))\n",
    "except Exception as e:\n",
    "    print(\"pyshacl import error:\", e)\n"
   ]
  },
  {
   "cell_type": "code",
   "execution_count": 2,
   "id": "d02f7d8e",
   "metadata": {},
   "outputs": [
    {
     "name": "stdout",
     "output_type": "stream",
     "text": [
      "Triple count: 2\n"
     ]
    }
   ],
   "source": [
    "from pathlib import Path\n",
    "import rdflib\n",
    "\n",
    "ttl_path = Path(__file__).resolve().parents[1] / \"notebooks\" / \"sample.ttl\" if \"__file__\" in globals() else Path.cwd() / \"sample.ttl\"\n",
    "if not ttl_path.exists():\n",
    "    # if launched with a different working dir in Jupyter, also try parent\n",
    "    alt = Path.cwd().parent / \"notebooks\" / \"sample.ttl\"\n",
    "    ttl_path = alt if alt.exists() else ttl_path\n",
    "\n",
    "g = rdflib.Graph()\n",
    "g.parse(str(ttl_path), format=\"turtle\")\n",
    "print(\"Triple count:\", len(g))\n"
   ]
  }
 ],
 "metadata": {
  "kernelspec": {
   "display_name": "Python 3",
   "language": "python",
   "name": "python3"
  },
  "language_info": {
   "codemirror_mode": {
    "name": "ipython",
    "version": 3
   },
   "file_extension": ".py",
   "mimetype": "text/x-python",
   "name": "python",
   "nbconvert_exporter": "python",
   "pygments_lexer": "ipython3",
   "version": "3.13.5"
  }
 },
 "nbformat": 4,
 "nbformat_minor": 5
}
